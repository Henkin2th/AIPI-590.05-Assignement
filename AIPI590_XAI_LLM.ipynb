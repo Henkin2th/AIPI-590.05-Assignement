{
  "nbformat": 4,
  "nbformat_minor": 0,
  "metadata": {
    "colab": {
      "provenance": [],
      "authorship_tag": "ABX9TyMdF6V3uQd5Zc19jrv3+amG",
      "include_colab_link": true
    },
    "kernelspec": {
      "name": "python3",
      "display_name": "Python 3"
    },
    "language_info": {
      "name": "python"
    }
  },
  "cells": [
    {
      "cell_type": "markdown",
      "metadata": {
        "id": "view-in-github",
        "colab_type": "text"
      },
      "source": [
        "<a href=\"https://colab.research.google.com/github/Henkin2th/AIPI-590.05-Assignement/blob/main/AIPI590_XAI_LLM.ipynb\" target=\"_parent\"><img src=\"https://colab.research.google.com/assets/colab-badge.svg\" alt=\"Open In Colab\"/></a>"
      ]
    },
    {
      "cell_type": "markdown",
      "source": [
        "# Exploring the Embedding Space of GIST Embedding v0 Using Dimensionality Reduction\n",
        "\n",
        "### Overview\n",
        "In this notebook, we explore the embedding space of the GIST Embedding v0 model, a fine-tuned text embedding model optimized for retrieval and classification tasks. To visualize the high-dimensional embeddings, we apply three dimensionality reduction techniques: **Principal Component Analysis (PCA)**, **t-distributed Stochastic Neighbor Embedding (t-SNE)**, and **Uniform Manifold Approximation and Projection (UMAP)**. Each technique provides a unique way to observe structure and relationships within the embeddings, allowing us to analyze how different words relate within the GIST model’s embedding space.\n"
      ],
      "metadata": {
        "id": "5k5vD9p9ED9a"
      }
    },
    {
      "cell_type": "code",
      "execution_count": null,
      "metadata": {
        "colab": {
          "base_uri": "https://localhost:8080/"
        },
        "id": "YjT4wmb0ZLo1",
        "outputId": "372ab2e6-c537-465e-9e91-a931d0549aae"
      },
      "outputs": [
        {
          "output_type": "stream",
          "name": "stdout",
          "text": [
            "Collecting gensim==4.3.2\n",
            "  Downloading gensim-4.3.2-cp310-cp310-manylinux_2_17_x86_64.manylinux2014_x86_64.whl.metadata (8.4 kB)\n",
            "Requirement already satisfied: matplotlib==3.7.1 in /usr/local/lib/python3.10/dist-packages (3.7.1)\n",
            "Collecting scikit-learn==1.2.2\n",
            "  Downloading scikit_learn-1.2.2-cp310-cp310-manylinux_2_17_x86_64.manylinux2014_x86_64.whl.metadata (11 kB)\n",
            "Collecting umap-learn==0.5.6\n",
            "  Downloading umap_learn-0.5.6-py3-none-any.whl.metadata (21 kB)\n",
            "Collecting plotly==5.15.0\n",
            "  Downloading plotly-5.15.0-py2.py3-none-any.whl.metadata (7.0 kB)\n",
            "Requirement already satisfied: numpy>=1.18.5 in /usr/local/lib/python3.10/dist-packages (from gensim==4.3.2) (1.26.4)\n",
            "Requirement already satisfied: scipy>=1.7.0 in /usr/local/lib/python3.10/dist-packages (from gensim==4.3.2) (1.13.1)\n",
            "Requirement already satisfied: smart-open>=1.8.1 in /usr/local/lib/python3.10/dist-packages (from gensim==4.3.2) (7.0.5)\n",
            "Requirement already satisfied: contourpy>=1.0.1 in /usr/local/lib/python3.10/dist-packages (from matplotlib==3.7.1) (1.3.0)\n",
            "Requirement already satisfied: cycler>=0.10 in /usr/local/lib/python3.10/dist-packages (from matplotlib==3.7.1) (0.12.1)\n",
            "Requirement already satisfied: fonttools>=4.22.0 in /usr/local/lib/python3.10/dist-packages (from matplotlib==3.7.1) (4.54.1)\n",
            "Requirement already satisfied: kiwisolver>=1.0.1 in /usr/local/lib/python3.10/dist-packages (from matplotlib==3.7.1) (1.4.7)\n",
            "Requirement already satisfied: packaging>=20.0 in /usr/local/lib/python3.10/dist-packages (from matplotlib==3.7.1) (24.1)\n",
            "Requirement already satisfied: pillow>=6.2.0 in /usr/local/lib/python3.10/dist-packages (from matplotlib==3.7.1) (10.4.0)\n",
            "Requirement already satisfied: pyparsing>=2.3.1 in /usr/local/lib/python3.10/dist-packages (from matplotlib==3.7.1) (3.2.0)\n",
            "Requirement already satisfied: python-dateutil>=2.7 in /usr/local/lib/python3.10/dist-packages (from matplotlib==3.7.1) (2.8.2)\n",
            "Requirement already satisfied: joblib>=1.1.1 in /usr/local/lib/python3.10/dist-packages (from scikit-learn==1.2.2) (1.4.2)\n",
            "Requirement already satisfied: threadpoolctl>=2.0.0 in /usr/local/lib/python3.10/dist-packages (from scikit-learn==1.2.2) (3.5.0)\n",
            "Requirement already satisfied: numba>=0.51.2 in /usr/local/lib/python3.10/dist-packages (from umap-learn==0.5.6) (0.60.0)\n",
            "Collecting pynndescent>=0.5 (from umap-learn==0.5.6)\n",
            "  Downloading pynndescent-0.5.13-py3-none-any.whl.metadata (6.8 kB)\n",
            "Requirement already satisfied: tqdm in /usr/local/lib/python3.10/dist-packages (from umap-learn==0.5.6) (4.66.5)\n",
            "Requirement already satisfied: tenacity>=6.2.0 in /usr/local/lib/python3.10/dist-packages (from plotly==5.15.0) (9.0.0)\n",
            "Requirement already satisfied: llvmlite<0.44,>=0.43.0dev0 in /usr/local/lib/python3.10/dist-packages (from numba>=0.51.2->umap-learn==0.5.6) (0.43.0)\n",
            "Requirement already satisfied: six>=1.5 in /usr/local/lib/python3.10/dist-packages (from python-dateutil>=2.7->matplotlib==3.7.1) (1.16.0)\n",
            "Requirement already satisfied: wrapt in /usr/local/lib/python3.10/dist-packages (from smart-open>=1.8.1->gensim==4.3.2) (1.16.0)\n",
            "Downloading gensim-4.3.2-cp310-cp310-manylinux_2_17_x86_64.manylinux2014_x86_64.whl (26.5 MB)\n",
            "\u001b[2K   \u001b[90m━━━━━━━━━━━━━━━━━━━━━━━━━━━━━━━━━━━━━━━━\u001b[0m \u001b[32m26.5/26.5 MB\u001b[0m \u001b[31m40.3 MB/s\u001b[0m eta \u001b[36m0:00:00\u001b[0m\n",
            "\u001b[?25hDownloading scikit_learn-1.2.2-cp310-cp310-manylinux_2_17_x86_64.manylinux2014_x86_64.whl (9.6 MB)\n",
            "\u001b[2K   \u001b[90m━━━━━━━━━━━━━━━━━━━━━━━━━━━━━━━━━━━━━━━━\u001b[0m \u001b[32m9.6/9.6 MB\u001b[0m \u001b[31m58.6 MB/s\u001b[0m eta \u001b[36m0:00:00\u001b[0m\n",
            "\u001b[?25hDownloading umap_learn-0.5.6-py3-none-any.whl (85 kB)\n",
            "\u001b[2K   \u001b[90m━━━━━━━━━━━━━━━━━━━━━━━━━━━━━━━━━━━━━━━━\u001b[0m \u001b[32m85.7/85.7 kB\u001b[0m \u001b[31m4.1 MB/s\u001b[0m eta \u001b[36m0:00:00\u001b[0m\n",
            "\u001b[?25hDownloading plotly-5.15.0-py2.py3-none-any.whl (15.5 MB)\n",
            "\u001b[2K   \u001b[90m━━━━━━━━━━━━━━━━━━━━━━━━━━━━━━━━━━━━━━━━\u001b[0m \u001b[32m15.5/15.5 MB\u001b[0m \u001b[31m51.4 MB/s\u001b[0m eta \u001b[36m0:00:00\u001b[0m\n",
            "\u001b[?25hDownloading pynndescent-0.5.13-py3-none-any.whl (56 kB)\n",
            "\u001b[2K   \u001b[90m━━━━━━━━━━━━━━━━━━━━━━━━━━━━━━━━━━━━━━━━\u001b[0m \u001b[32m56.9/56.9 kB\u001b[0m \u001b[31m929.8 kB/s\u001b[0m eta \u001b[36m0:00:00\u001b[0m\n",
            "\u001b[?25hInstalling collected packages: plotly, scikit-learn, gensim, pynndescent, umap-learn\n",
            "  Attempting uninstall: plotly\n",
            "    Found existing installation: plotly 5.24.1\n",
            "    Uninstalling plotly-5.24.1:\n",
            "      Successfully uninstalled plotly-5.24.1\n",
            "  Attempting uninstall: scikit-learn\n",
            "    Found existing installation: scikit-learn 1.5.2\n",
            "    Uninstalling scikit-learn-1.5.2:\n",
            "      Successfully uninstalled scikit-learn-1.5.2\n",
            "  Attempting uninstall: gensim\n",
            "    Found existing installation: gensim 4.3.3\n",
            "    Uninstalling gensim-4.3.3:\n",
            "      Successfully uninstalled gensim-4.3.3\n",
            "Successfully installed gensim-4.3.2 plotly-5.15.0 pynndescent-0.5.13 scikit-learn-1.2.2 umap-learn-0.5.6\n"
          ]
        }
      ],
      "source": [
        "!pip install gensim==4.3.2 matplotlib==3.7.1 scikit-learn==1.2.2 umap-learn==0.5.6 plotly==5.15.0"
      ]
    },
    {
      "cell_type": "code",
      "source": [
        "!pip install -U sentence-transformers"
      ],
      "metadata": {
        "colab": {
          "base_uri": "https://localhost:8080/"
        },
        "id": "gwO6g7KeZmdd",
        "outputId": "5118a6d4-cf02-461e-c187-f99abd97f618"
      },
      "execution_count": null,
      "outputs": [
        {
          "output_type": "stream",
          "name": "stdout",
          "text": [
            "Collecting sentence-transformers\n",
            "  Downloading sentence_transformers-3.2.1-py3-none-any.whl.metadata (10 kB)\n",
            "Requirement already satisfied: transformers<5.0.0,>=4.41.0 in /usr/local/lib/python3.10/dist-packages (from sentence-transformers) (4.44.2)\n",
            "Requirement already satisfied: tqdm in /usr/local/lib/python3.10/dist-packages (from sentence-transformers) (4.66.5)\n",
            "Requirement already satisfied: torch>=1.11.0 in /usr/local/lib/python3.10/dist-packages (from sentence-transformers) (2.5.0+cu121)\n",
            "Requirement already satisfied: scikit-learn in /usr/local/lib/python3.10/dist-packages (from sentence-transformers) (1.2.2)\n",
            "Requirement already satisfied: scipy in /usr/local/lib/python3.10/dist-packages (from sentence-transformers) (1.13.1)\n",
            "Requirement already satisfied: huggingface-hub>=0.20.0 in /usr/local/lib/python3.10/dist-packages (from sentence-transformers) (0.24.7)\n",
            "Requirement already satisfied: Pillow in /usr/local/lib/python3.10/dist-packages (from sentence-transformers) (10.4.0)\n",
            "Requirement already satisfied: filelock in /usr/local/lib/python3.10/dist-packages (from huggingface-hub>=0.20.0->sentence-transformers) (3.16.1)\n",
            "Requirement already satisfied: fsspec>=2023.5.0 in /usr/local/lib/python3.10/dist-packages (from huggingface-hub>=0.20.0->sentence-transformers) (2024.6.1)\n",
            "Requirement already satisfied: packaging>=20.9 in /usr/local/lib/python3.10/dist-packages (from huggingface-hub>=0.20.0->sentence-transformers) (24.1)\n",
            "Requirement already satisfied: pyyaml>=5.1 in /usr/local/lib/python3.10/dist-packages (from huggingface-hub>=0.20.0->sentence-transformers) (6.0.2)\n",
            "Requirement already satisfied: requests in /usr/local/lib/python3.10/dist-packages (from huggingface-hub>=0.20.0->sentence-transformers) (2.32.3)\n",
            "Requirement already satisfied: typing-extensions>=3.7.4.3 in /usr/local/lib/python3.10/dist-packages (from huggingface-hub>=0.20.0->sentence-transformers) (4.12.2)\n",
            "Requirement already satisfied: networkx in /usr/local/lib/python3.10/dist-packages (from torch>=1.11.0->sentence-transformers) (3.4.2)\n",
            "Requirement already satisfied: jinja2 in /usr/local/lib/python3.10/dist-packages (from torch>=1.11.0->sentence-transformers) (3.1.4)\n",
            "Requirement already satisfied: sympy==1.13.1 in /usr/local/lib/python3.10/dist-packages (from torch>=1.11.0->sentence-transformers) (1.13.1)\n",
            "Requirement already satisfied: mpmath<1.4,>=1.1.0 in /usr/local/lib/python3.10/dist-packages (from sympy==1.13.1->torch>=1.11.0->sentence-transformers) (1.3.0)\n",
            "Requirement already satisfied: numpy>=1.17 in /usr/local/lib/python3.10/dist-packages (from transformers<5.0.0,>=4.41.0->sentence-transformers) (1.26.4)\n",
            "Requirement already satisfied: regex!=2019.12.17 in /usr/local/lib/python3.10/dist-packages (from transformers<5.0.0,>=4.41.0->sentence-transformers) (2024.9.11)\n",
            "Requirement already satisfied: safetensors>=0.4.1 in /usr/local/lib/python3.10/dist-packages (from transformers<5.0.0,>=4.41.0->sentence-transformers) (0.4.5)\n",
            "Requirement already satisfied: tokenizers<0.20,>=0.19 in /usr/local/lib/python3.10/dist-packages (from transformers<5.0.0,>=4.41.0->sentence-transformers) (0.19.1)\n",
            "Requirement already satisfied: joblib>=1.1.1 in /usr/local/lib/python3.10/dist-packages (from scikit-learn->sentence-transformers) (1.4.2)\n",
            "Requirement already satisfied: threadpoolctl>=2.0.0 in /usr/local/lib/python3.10/dist-packages (from scikit-learn->sentence-transformers) (3.5.0)\n",
            "Requirement already satisfied: MarkupSafe>=2.0 in /usr/local/lib/python3.10/dist-packages (from jinja2->torch>=1.11.0->sentence-transformers) (3.0.2)\n",
            "Requirement already satisfied: charset-normalizer<4,>=2 in /usr/local/lib/python3.10/dist-packages (from requests->huggingface-hub>=0.20.0->sentence-transformers) (3.4.0)\n",
            "Requirement already satisfied: idna<4,>=2.5 in /usr/local/lib/python3.10/dist-packages (from requests->huggingface-hub>=0.20.0->sentence-transformers) (3.10)\n",
            "Requirement already satisfied: urllib3<3,>=1.21.1 in /usr/local/lib/python3.10/dist-packages (from requests->huggingface-hub>=0.20.0->sentence-transformers) (2.2.3)\n",
            "Requirement already satisfied: certifi>=2017.4.17 in /usr/local/lib/python3.10/dist-packages (from requests->huggingface-hub>=0.20.0->sentence-transformers) (2024.8.30)\n",
            "Downloading sentence_transformers-3.2.1-py3-none-any.whl (255 kB)\n",
            "\u001b[2K   \u001b[90m━━━━━━━━━━━━━━━━━━━━━━━━━━━━━━━━━━━━━━━━\u001b[0m \u001b[32m255.8/255.8 kB\u001b[0m \u001b[31m5.8 MB/s\u001b[0m eta \u001b[36m0:00:00\u001b[0m\n",
            "\u001b[?25hInstalling collected packages: sentence-transformers\n",
            "Successfully installed sentence-transformers-3.2.1\n"
          ]
        }
      ]
    },
    {
      "cell_type": "markdown",
      "source": [
        "# Load the Model and Prepare the Dataset"
      ],
      "metadata": {
        "id": "R34EpTlwEdyY"
      }
    },
    {
      "cell_type": "code",
      "source": [
        "from sentence_transformers import SentenceTransformer\n",
        "model = SentenceTransformer(\"avsolatorio/GIST-Embedding-v0\")"
      ],
      "metadata": {
        "id": "Bi-txScNZShg"
      },
      "execution_count": null,
      "outputs": []
    },
    {
      "cell_type": "code",
      "source": [
        "# ai-generated 100 words\n",
        "texts = [\n",
        "    \"sunset\", \"mountain\", \"river\", \"city\", \"forest\", \"ocean\", \"sky\", \"garden\", \"flower\", \"island\",\n",
        "    \"book\", \"novel\", \"poem\", \"story\", \"author\", \"library\", \"chapter\", \"page\", \"poetry\", \"literature\",\n",
        "    \"painting\", \"sculpture\", \"museum\", \"canvas\", \"brush\", \"gallery\", \"artist\", \"portrait\", \"exhibit\", \"frame\",\n",
        "    \"guitar\", \"piano\", \"violin\", \"concert\", \"symphony\", \"melody\", \"rhythm\", \"lyric\", \"harmony\", \"band\",\n",
        "    \"friend\", \"family\", \"sibling\", \"parent\", \"child\", \"cousin\", \"uncle\", \"aunt\", \"grandparent\", \"neighbor\",\n",
        "    \"hiking\", \"running\", \"swimming\", \"cycling\", \"tennis\", \"basketball\", \"soccer\", \"volleyball\", \"yoga\", \"dance\",\n",
        "    \"computer\", \"phone\", \"tablet\", \"camera\", \"keyboard\", \"mouse\", \"screen\", \"monitor\", \"printer\", \"speaker\",\n",
        "    \"bread\", \"cheese\", \"apple\", \"banana\", \"orange\", \"strawberry\", \"grape\", \"carrot\", \"potato\", \"lettuce\",\n",
        "    \"school\", \"university\", \"teacher\", \"student\", \"classroom\", \"homework\", \"exam\", \"textbook\", \"lecture\", \"library\",\n",
        "    \"car\", \"bus\", \"train\", \"bicycle\", \"airplane\", \"boat\", \"subway\", \"taxi\", \"scooter\", \"motorcycle\",\n",
        "    \"joy\", \"sadness\", \"anger\", \"love\", \"fear\", \"hope\", \"relief\", \"surprise\", \"excitement\", \"calm\"\n",
        "]\n",
        "embeddings = model.encode(texts, convert_to_tensor=True).cpu().numpy()"
      ],
      "metadata": {
        "id": "QyP7UKMEZwFS"
      },
      "execution_count": null,
      "outputs": []
    },
    {
      "cell_type": "markdown",
      "source": [
        "### Dataset Preparation\n",
        "We use a list of 100 single words covering various topics, including nature, emotions, objects, and family, to ensure diverse embedding points. Using these words, we generate embeddings with the GIST model, which allows us to explore the relationships between these concepts in a reduced dimensional space.\n"
      ],
      "metadata": {
        "id": "E3ZyLISlEiXd"
      }
    },
    {
      "cell_type": "code",
      "source": [
        "from sklearn.decomposition import PCA\n",
        "pca = PCA(n_components=2)\n",
        "embeddings_pca = pca.fit_transform(embeddings)"
      ],
      "metadata": {
        "id": "1YOa7mewZ9g7"
      },
      "execution_count": null,
      "outputs": []
    },
    {
      "cell_type": "code",
      "source": [
        "import plotly.express as px\n",
        "fig_pca = px.scatter(embeddings_pca, x=0, y=1, text=texts,\n",
        "                     title=\"PCA of GIST Embeddings\",\n",
        "                     labels={'0': 'Principal Component 1', '1': 'Principal Component 2'})\n",
        "fig_pca.show()"
      ],
      "metadata": {
        "colab": {
          "base_uri": "https://localhost:8080/",
          "height": 542
        },
        "id": "7_8e7LBkabf9",
        "outputId": "1ad9319b-fb7e-4948-f9ef-dc3b8c9f9b9f"
      },
      "execution_count": null,
      "outputs": [
        {
          "output_type": "display_data",
          "data": {
            "text/html": [
              "<html>\n",
              "<head><meta charset=\"utf-8\" /></head>\n",
              "<body>\n",
              "    <div>            <script src=\"https://cdnjs.cloudflare.com/ajax/libs/mathjax/2.7.5/MathJax.js?config=TeX-AMS-MML_SVG\"></script><script type=\"text/javascript\">if (window.MathJax && window.MathJax.Hub && window.MathJax.Hub.Config) {window.MathJax.Hub.Config({SVG: {font: \"STIX-Web\"}});}</script>                <script type=\"text/javascript\">window.PlotlyConfig = {MathJaxConfig: 'local'};</script>\n",
              "        <script charset=\"utf-8\" src=\"https://cdn.plot.ly/plotly-2.24.1.min.js\"></script>                <div id=\"27efd96b-905a-41ba-9180-fa0e353b92d4\" class=\"plotly-graph-div\" style=\"height:525px; width:100%;\"></div>            <script type=\"text/javascript\">                                    window.PLOTLYENV=window.PLOTLYENV || {};                                    if (document.getElementById(\"27efd96b-905a-41ba-9180-fa0e353b92d4\")) {                    Plotly.newPlot(                        \"27efd96b-905a-41ba-9180-fa0e353b92d4\",                        [{\"hovertemplate\":\"Principal Component 1=%{x}\\u003cbr\\u003ePrincipal Component 2=%{y}\\u003cbr\\u003etext=%{text}\\u003cextra\\u003e\\u003c\\u002fextra\\u003e\",\"legendgroup\":\"\",\"marker\":{\"color\":\"#636efa\",\"symbol\":\"circle\"},\"mode\":\"markers+text\",\"name\":\"\",\"orientation\":\"v\",\"showlegend\":false,\"text\":[\"sunset\",\"mountain\",\"river\",\"city\",\"forest\",\"ocean\",\"sky\",\"garden\",\"flower\",\"island\",\"book\",\"novel\",\"poem\",\"story\",\"author\",\"library\",\"chapter\",\"page\",\"poetry\",\"literature\",\"painting\",\"sculpture\",\"museum\",\"canvas\",\"brush\",\"gallery\",\"artist\",\"portrait\",\"exhibit\",\"frame\",\"guitar\",\"piano\",\"violin\",\"concert\",\"symphony\",\"melody\",\"rhythm\",\"lyric\",\"harmony\",\"band\",\"friend\",\"family\",\"sibling\",\"parent\",\"child\",\"cousin\",\"uncle\",\"aunt\",\"grandparent\",\"neighbor\",\"hiking\",\"running\",\"swimming\",\"cycling\",\"tennis\",\"basketball\",\"soccer\",\"volleyball\",\"yoga\",\"dance\",\"computer\",\"phone\",\"tablet\",\"camera\",\"keyboard\",\"mouse\",\"screen\",\"monitor\",\"printer\",\"speaker\",\"bread\",\"cheese\",\"apple\",\"banana\",\"orange\",\"strawberry\",\"grape\",\"carrot\",\"potato\",\"lettuce\",\"school\",\"university\",\"teacher\",\"student\",\"classroom\",\"homework\",\"exam\",\"textbook\",\"lecture\",\"library\",\"car\",\"bus\",\"train\",\"bicycle\",\"airplane\",\"boat\",\"subway\",\"taxi\",\"scooter\",\"motorcycle\",\"joy\",\"sadness\",\"anger\",\"love\",\"fear\",\"hope\",\"relief\",\"surprise\",\"excitement\",\"calm\"],\"x\":[-0.013120602816343307,-0.11055159568786621,-0.11230561882257462,-0.026884928345680237,-0.0631132498383522,-0.09774088114500046,-0.054991401731967926,-0.11921311914920807,-0.12072370201349258,-0.06278526782989502,0.22260773181915283,0.10236023366451263,0.1831178069114685,0.10771140456199646,0.2775515913963318,0.26181989908218384,0.16434425115585327,0.08615076541900635,0.23135554790496826,0.2445840686559677,0.06660626828670502,0.14971274137496948,0.19093628227710724,0.017847955226898193,-0.02476241998374462,0.15605676174163818,0.18940062820911407,0.08305583149194717,0.17781595885753632,-0.0296759232878685,-0.04953942075371742,0.09382661432027817,0.026491833850741386,0.15316025912761688,0.15988042950630188,0.0848570391535759,0.034917380660772324,0.11417999118566513,0.06094338744878769,-0.006071967538446188,-0.04976359382271767,-0.01975175365805626,-0.03067229501903057,0.02148752473294735,-0.03866822272539139,-0.036816466599702835,-0.025819670408964157,0.007013673894107342,-0.002189797814935446,-0.0696277990937233,-0.086078941822052,-0.08022486418485641,-0.07381409406661987,-0.1722983866930008,-0.07543917745351791,-0.03110475279390812,-0.14954519271850586,-0.07070494443178177,0.013326798565685749,0.0387931689620018,-0.08931864798069,-0.07794263958930969,-0.0327540785074234,-0.07499872148036957,-0.03985276445746422,-0.1324462890625,-0.06128215417265892,-0.06050458177924156,-0.05984611064195633,0.23331193625926971,-0.1338202804327011,-0.19707871973514557,-0.14950713515281677,-0.21638774871826172,-0.13118822872638702,-0.1775575578212738,-0.20011743903160095,-0.18788395822048187,-0.20752647519111633,-0.18508991599082947,0.0892617329955101,0.05955912917852402,0.15983594954013824,0.10062506794929504,0.20213152468204498,0.11298997700214386,0.06484709680080414,0.19068938493728638,0.29139623045921326,0.26181989908218384,-0.1356963962316513,-0.09341723471879959,-0.09318335354328156,-0.21681514382362366,-0.09898154437541962,-0.11572986841201782,-0.15893375873565674,-0.12250365316867828,-0.22085711359977722,-0.17543557286262512,0.053775615990161896,0.016993211582303047,0.03050498478114605,0.011015576310455799,0.03822159767150879,0.031109772622585297,0.0019116542534902692,0.03955913707613945,0.04731438681483269,-0.008130296133458614],\"xaxis\":\"x\",\"y\":[0.1668551117181778,0.08077965676784515,0.049012623727321625,-0.05878359079360962,0.0384710356593132,0.07273468375205994,0.09585610777139664,0.08079435676336288,0.1482556015253067,-0.0030547494534403086,-0.1170053705573082,-0.015070945024490356,0.2269078493118286,0.053362466394901276,0.014585987664759159,-0.2061680555343628,-0.056881994009017944,-0.1569608598947525,0.2475558966398239,0.004443149082362652,0.024401074275374413,-0.005343512631952763,-0.16694022715091705,0.017568347975611687,0.042977165430784225,-0.04735909029841423,0.12937454879283905,-0.027751019224524498,-0.0705547109246254,-0.10048767924308777,0.037081293761730194,0.019795944914221764,0.07318408787250519,0.08998516947031021,0.10456062853336334,0.23263946175575256,0.18572509288787842,0.20611698925495148,0.2065677046775818,0.08200078457593918,0.04441102594137192,-0.05400592461228371,-0.050808362662792206,-0.10629924386739731,-0.02700861170887947,-0.009688783437013626,-0.09834728389978409,-0.06937291473150253,-0.08416107296943665,0.024541057646274567,0.05328553915023804,0.07942203432321548,0.127205953001976,-0.01880943775177002,0.08805790543556213,-0.06410873681306839,0.06223185732960701,0.0735173374414444,0.09753919392824173,0.179885134100914,-0.24204431474208832,-0.1768442839384079,-0.14436092972755432,-0.15192265808582306,-0.11730504781007767,-0.06189889833331108,-0.14796504378318787,-0.14478462934494019,-0.22974848747253418,-0.0326855294406414,0.07039257884025574,0.09151295572519302,-0.06796790659427643,0.0355386920273304,0.07900168746709824,0.13162994384765625,0.09164944291114807,0.041914183646440506,0.03491920605301857,0.11672660708427429,-0.09710030257701874,-0.10458468645811081,-0.04252972826361656,-0.1171640083193779,-0.12470053136348724,-0.14663925766944885,-0.08306065946817398,-0.215450718998909,-0.10581434518098831,-0.2061680555343628,-0.19709773361682892,-0.1842864751815796,-0.05502801761031151,-0.10927743464708328,-0.16319425404071808,-0.08782194554805756,-0.050791673362255096,-0.1764526218175888,-0.18302078545093536,-0.20202073454856873,0.2421838343143463,0.20275631546974182,0.12866517901420593,0.200375035405159,0.1273404210805893,0.12979358434677124,0.12137365341186523,0.09453744441270828,0.11251503229141235,0.17018841207027435],\"yaxis\":\"y\",\"type\":\"scatter\"}],                        {\"template\":{\"data\":{\"histogram2dcontour\":[{\"type\":\"histogram2dcontour\",\"colorbar\":{\"outlinewidth\":0,\"ticks\":\"\"},\"colorscale\":[[0.0,\"#0d0887\"],[0.1111111111111111,\"#46039f\"],[0.2222222222222222,\"#7201a8\"],[0.3333333333333333,\"#9c179e\"],[0.4444444444444444,\"#bd3786\"],[0.5555555555555556,\"#d8576b\"],[0.6666666666666666,\"#ed7953\"],[0.7777777777777778,\"#fb9f3a\"],[0.8888888888888888,\"#fdca26\"],[1.0,\"#f0f921\"]]}],\"choropleth\":[{\"type\":\"choropleth\",\"colorbar\":{\"outlinewidth\":0,\"ticks\":\"\"}}],\"histogram2d\":[{\"type\":\"histogram2d\",\"colorbar\":{\"outlinewidth\":0,\"ticks\":\"\"},\"colorscale\":[[0.0,\"#0d0887\"],[0.1111111111111111,\"#46039f\"],[0.2222222222222222,\"#7201a8\"],[0.3333333333333333,\"#9c179e\"],[0.4444444444444444,\"#bd3786\"],[0.5555555555555556,\"#d8576b\"],[0.6666666666666666,\"#ed7953\"],[0.7777777777777778,\"#fb9f3a\"],[0.8888888888888888,\"#fdca26\"],[1.0,\"#f0f921\"]]}],\"heatmap\":[{\"type\":\"heatmap\",\"colorbar\":{\"outlinewidth\":0,\"ticks\":\"\"},\"colorscale\":[[0.0,\"#0d0887\"],[0.1111111111111111,\"#46039f\"],[0.2222222222222222,\"#7201a8\"],[0.3333333333333333,\"#9c179e\"],[0.4444444444444444,\"#bd3786\"],[0.5555555555555556,\"#d8576b\"],[0.6666666666666666,\"#ed7953\"],[0.7777777777777778,\"#fb9f3a\"],[0.8888888888888888,\"#fdca26\"],[1.0,\"#f0f921\"]]}],\"heatmapgl\":[{\"type\":\"heatmapgl\",\"colorbar\":{\"outlinewidth\":0,\"ticks\":\"\"},\"colorscale\":[[0.0,\"#0d0887\"],[0.1111111111111111,\"#46039f\"],[0.2222222222222222,\"#7201a8\"],[0.3333333333333333,\"#9c179e\"],[0.4444444444444444,\"#bd3786\"],[0.5555555555555556,\"#d8576b\"],[0.6666666666666666,\"#ed7953\"],[0.7777777777777778,\"#fb9f3a\"],[0.8888888888888888,\"#fdca26\"],[1.0,\"#f0f921\"]]}],\"contourcarpet\":[{\"type\":\"contourcarpet\",\"colorbar\":{\"outlinewidth\":0,\"ticks\":\"\"}}],\"contour\":[{\"type\":\"contour\",\"colorbar\":{\"outlinewidth\":0,\"ticks\":\"\"},\"colorscale\":[[0.0,\"#0d0887\"],[0.1111111111111111,\"#46039f\"],[0.2222222222222222,\"#7201a8\"],[0.3333333333333333,\"#9c179e\"],[0.4444444444444444,\"#bd3786\"],[0.5555555555555556,\"#d8576b\"],[0.6666666666666666,\"#ed7953\"],[0.7777777777777778,\"#fb9f3a\"],[0.8888888888888888,\"#fdca26\"],[1.0,\"#f0f921\"]]}],\"surface\":[{\"type\":\"surface\",\"colorbar\":{\"outlinewidth\":0,\"ticks\":\"\"},\"colorscale\":[[0.0,\"#0d0887\"],[0.1111111111111111,\"#46039f\"],[0.2222222222222222,\"#7201a8\"],[0.3333333333333333,\"#9c179e\"],[0.4444444444444444,\"#bd3786\"],[0.5555555555555556,\"#d8576b\"],[0.6666666666666666,\"#ed7953\"],[0.7777777777777778,\"#fb9f3a\"],[0.8888888888888888,\"#fdca26\"],[1.0,\"#f0f921\"]]}],\"mesh3d\":[{\"type\":\"mesh3d\",\"colorbar\":{\"outlinewidth\":0,\"ticks\":\"\"}}],\"scatter\":[{\"fillpattern\":{\"fillmode\":\"overlay\",\"size\":10,\"solidity\":0.2},\"type\":\"scatter\"}],\"parcoords\":[{\"type\":\"parcoords\",\"line\":{\"colorbar\":{\"outlinewidth\":0,\"ticks\":\"\"}}}],\"scatterpolargl\":[{\"type\":\"scatterpolargl\",\"marker\":{\"colorbar\":{\"outlinewidth\":0,\"ticks\":\"\"}}}],\"bar\":[{\"error_x\":{\"color\":\"#2a3f5f\"},\"error_y\":{\"color\":\"#2a3f5f\"},\"marker\":{\"line\":{\"color\":\"#E5ECF6\",\"width\":0.5},\"pattern\":{\"fillmode\":\"overlay\",\"size\":10,\"solidity\":0.2}},\"type\":\"bar\"}],\"scattergeo\":[{\"type\":\"scattergeo\",\"marker\":{\"colorbar\":{\"outlinewidth\":0,\"ticks\":\"\"}}}],\"scatterpolar\":[{\"type\":\"scatterpolar\",\"marker\":{\"colorbar\":{\"outlinewidth\":0,\"ticks\":\"\"}}}],\"histogram\":[{\"marker\":{\"pattern\":{\"fillmode\":\"overlay\",\"size\":10,\"solidity\":0.2}},\"type\":\"histogram\"}],\"scattergl\":[{\"type\":\"scattergl\",\"marker\":{\"colorbar\":{\"outlinewidth\":0,\"ticks\":\"\"}}}],\"scatter3d\":[{\"type\":\"scatter3d\",\"line\":{\"colorbar\":{\"outlinewidth\":0,\"ticks\":\"\"}},\"marker\":{\"colorbar\":{\"outlinewidth\":0,\"ticks\":\"\"}}}],\"scattermapbox\":[{\"type\":\"scattermapbox\",\"marker\":{\"colorbar\":{\"outlinewidth\":0,\"ticks\":\"\"}}}],\"scatterternary\":[{\"type\":\"scatterternary\",\"marker\":{\"colorbar\":{\"outlinewidth\":0,\"ticks\":\"\"}}}],\"scattercarpet\":[{\"type\":\"scattercarpet\",\"marker\":{\"colorbar\":{\"outlinewidth\":0,\"ticks\":\"\"}}}],\"carpet\":[{\"aaxis\":{\"endlinecolor\":\"#2a3f5f\",\"gridcolor\":\"white\",\"linecolor\":\"white\",\"minorgridcolor\":\"white\",\"startlinecolor\":\"#2a3f5f\"},\"baxis\":{\"endlinecolor\":\"#2a3f5f\",\"gridcolor\":\"white\",\"linecolor\":\"white\",\"minorgridcolor\":\"white\",\"startlinecolor\":\"#2a3f5f\"},\"type\":\"carpet\"}],\"table\":[{\"cells\":{\"fill\":{\"color\":\"#EBF0F8\"},\"line\":{\"color\":\"white\"}},\"header\":{\"fill\":{\"color\":\"#C8D4E3\"},\"line\":{\"color\":\"white\"}},\"type\":\"table\"}],\"barpolar\":[{\"marker\":{\"line\":{\"color\":\"#E5ECF6\",\"width\":0.5},\"pattern\":{\"fillmode\":\"overlay\",\"size\":10,\"solidity\":0.2}},\"type\":\"barpolar\"}],\"pie\":[{\"automargin\":true,\"type\":\"pie\"}]},\"layout\":{\"autotypenumbers\":\"strict\",\"colorway\":[\"#636efa\",\"#EF553B\",\"#00cc96\",\"#ab63fa\",\"#FFA15A\",\"#19d3f3\",\"#FF6692\",\"#B6E880\",\"#FF97FF\",\"#FECB52\"],\"font\":{\"color\":\"#2a3f5f\"},\"hovermode\":\"closest\",\"hoverlabel\":{\"align\":\"left\"},\"paper_bgcolor\":\"white\",\"plot_bgcolor\":\"#E5ECF6\",\"polar\":{\"bgcolor\":\"#E5ECF6\",\"angularaxis\":{\"gridcolor\":\"white\",\"linecolor\":\"white\",\"ticks\":\"\"},\"radialaxis\":{\"gridcolor\":\"white\",\"linecolor\":\"white\",\"ticks\":\"\"}},\"ternary\":{\"bgcolor\":\"#E5ECF6\",\"aaxis\":{\"gridcolor\":\"white\",\"linecolor\":\"white\",\"ticks\":\"\"},\"baxis\":{\"gridcolor\":\"white\",\"linecolor\":\"white\",\"ticks\":\"\"},\"caxis\":{\"gridcolor\":\"white\",\"linecolor\":\"white\",\"ticks\":\"\"}},\"coloraxis\":{\"colorbar\":{\"outlinewidth\":0,\"ticks\":\"\"}},\"colorscale\":{\"sequential\":[[0.0,\"#0d0887\"],[0.1111111111111111,\"#46039f\"],[0.2222222222222222,\"#7201a8\"],[0.3333333333333333,\"#9c179e\"],[0.4444444444444444,\"#bd3786\"],[0.5555555555555556,\"#d8576b\"],[0.6666666666666666,\"#ed7953\"],[0.7777777777777778,\"#fb9f3a\"],[0.8888888888888888,\"#fdca26\"],[1.0,\"#f0f921\"]],\"sequentialminus\":[[0.0,\"#0d0887\"],[0.1111111111111111,\"#46039f\"],[0.2222222222222222,\"#7201a8\"],[0.3333333333333333,\"#9c179e\"],[0.4444444444444444,\"#bd3786\"],[0.5555555555555556,\"#d8576b\"],[0.6666666666666666,\"#ed7953\"],[0.7777777777777778,\"#fb9f3a\"],[0.8888888888888888,\"#fdca26\"],[1.0,\"#f0f921\"]],\"diverging\":[[0,\"#8e0152\"],[0.1,\"#c51b7d\"],[0.2,\"#de77ae\"],[0.3,\"#f1b6da\"],[0.4,\"#fde0ef\"],[0.5,\"#f7f7f7\"],[0.6,\"#e6f5d0\"],[0.7,\"#b8e186\"],[0.8,\"#7fbc41\"],[0.9,\"#4d9221\"],[1,\"#276419\"]]},\"xaxis\":{\"gridcolor\":\"white\",\"linecolor\":\"white\",\"ticks\":\"\",\"title\":{\"standoff\":15},\"zerolinecolor\":\"white\",\"automargin\":true,\"zerolinewidth\":2},\"yaxis\":{\"gridcolor\":\"white\",\"linecolor\":\"white\",\"ticks\":\"\",\"title\":{\"standoff\":15},\"zerolinecolor\":\"white\",\"automargin\":true,\"zerolinewidth\":2},\"scene\":{\"xaxis\":{\"backgroundcolor\":\"#E5ECF6\",\"gridcolor\":\"white\",\"linecolor\":\"white\",\"showbackground\":true,\"ticks\":\"\",\"zerolinecolor\":\"white\",\"gridwidth\":2},\"yaxis\":{\"backgroundcolor\":\"#E5ECF6\",\"gridcolor\":\"white\",\"linecolor\":\"white\",\"showbackground\":true,\"ticks\":\"\",\"zerolinecolor\":\"white\",\"gridwidth\":2},\"zaxis\":{\"backgroundcolor\":\"#E5ECF6\",\"gridcolor\":\"white\",\"linecolor\":\"white\",\"showbackground\":true,\"ticks\":\"\",\"zerolinecolor\":\"white\",\"gridwidth\":2}},\"shapedefaults\":{\"line\":{\"color\":\"#2a3f5f\"}},\"annotationdefaults\":{\"arrowcolor\":\"#2a3f5f\",\"arrowhead\":0,\"arrowwidth\":1},\"geo\":{\"bgcolor\":\"white\",\"landcolor\":\"#E5ECF6\",\"subunitcolor\":\"white\",\"showland\":true,\"showlakes\":true,\"lakecolor\":\"white\"},\"title\":{\"x\":0.05},\"mapbox\":{\"style\":\"light\"}}},\"xaxis\":{\"anchor\":\"y\",\"domain\":[0.0,1.0],\"title\":{\"text\":\"Principal Component 1\"}},\"yaxis\":{\"anchor\":\"x\",\"domain\":[0.0,1.0],\"title\":{\"text\":\"Principal Component 2\"}},\"legend\":{\"tracegroupgap\":0},\"title\":{\"text\":\"PCA of GIST Embeddings\"}},                        {\"responsive\": true}                    ).then(function(){\n",
              "                            \n",
              "var gd = document.getElementById('27efd96b-905a-41ba-9180-fa0e353b92d4');\n",
              "var x = new MutationObserver(function (mutations, observer) {{\n",
              "        var display = window.getComputedStyle(gd).display;\n",
              "        if (!display || display === 'none') {{\n",
              "            console.log([gd, 'removed!']);\n",
              "            Plotly.purge(gd);\n",
              "            observer.disconnect();\n",
              "        }}\n",
              "}});\n",
              "\n",
              "// Listen for the removal of the full notebook cells\n",
              "var notebookContainer = gd.closest('#notebook-container');\n",
              "if (notebookContainer) {{\n",
              "    x.observe(notebookContainer, {childList: true});\n",
              "}}\n",
              "\n",
              "// Listen for the clearing of the current output cell\n",
              "var outputEl = gd.closest('.output');\n",
              "if (outputEl) {{\n",
              "    x.observe(outputEl, {childList: true});\n",
              "}}\n",
              "\n",
              "                        })                };                            </script>        </div>\n",
              "</body>\n",
              "</html>"
            ]
          },
          "metadata": {}
        }
      ]
    },
    {
      "cell_type": "markdown",
      "source": [
        "### PCA Visualization Insights\n",
        "\n",
        "The PCA visualization of the GIST embeddings reveals broad thematic groupings:\n",
        "\n",
        "1. **Clusters of Similar Concepts**:\n",
        "   - **Food-related words** such as \"banana,\" \"carrot,\" \"potato,\" \"grape,\" and \"strawberry\" form a distinct cluster, showing that PCA captures some semantic relationships.\n",
        "   - **Family-related terms** including \"parent,\" \"sibling,\" \"cousin,\" \"grandparent,\" and \"child\" are also grouped closely.\n",
        "\n",
        "2. **Thematic Areas**:\n",
        "   - **Nature and Activities**: Words like \"mountain,\" \"river,\" \"ocean,\" and \"forest\" appear close to recreational terms like \"hiking\" and \"swimming.\"\n",
        "   - **Arts and Literature**: Words such as \"novel,\" \"poetry,\" \"museum,\" \"sculpture,\" and \"artist\" form a grouping related to creative and cultural themes.\n",
        "\n",
        "3. **Global Patterns and Observations**:\n",
        "   - This PCA plot captures broad patterns but lacks detailed local relationships that methods like t-SNE and UMAP can reveal. However, it provides a useful overview of how words are generally organized within the embedding space.\n",
        "\n",
        "Overall, PCA highlights global themes within the GIST embedding space, making it suitable for observing large-scale patterns but less effective for detailed clusters or highly localized relationships.\n"
      ],
      "metadata": {
        "id": "nckkWSKwEn5J"
      }
    },
    {
      "cell_type": "code",
      "source": [
        "from sklearn.manifold import TSNE\n",
        "tsne = TSNE(n_components=2, perplexity=10, n_iter=300, random_state=42)\n",
        "embeddings_tsne = tsne.fit_transform(embeddings)"
      ],
      "metadata": {
        "id": "P09D0kU0afMT"
      },
      "execution_count": null,
      "outputs": []
    },
    {
      "cell_type": "code",
      "source": [
        "\n",
        "fig_tsne = px.scatter(embeddings_tsne, x=0, y=1, text=texts,\n",
        "                      title=\"t-SNE of GIST Embeddings\",\n",
        "                      labels={'0': 'Component 1', '1': 'Component 2'})\n",
        "fig_tsne.show()"
      ],
      "metadata": {
        "colab": {
          "base_uri": "https://localhost:8080/",
          "height": 542
        },
        "id": "8s8WWJ-wahZK",
        "outputId": "5ad60c43-3d52-48ef-d666-3521cddc4b79"
      },
      "execution_count": null,
      "outputs": [
        {
          "output_type": "display_data",
          "data": {
            "text/html": [
              "<html>\n",
              "<head><meta charset=\"utf-8\" /></head>\n",
              "<body>\n",
              "    <div>            <script src=\"https://cdnjs.cloudflare.com/ajax/libs/mathjax/2.7.5/MathJax.js?config=TeX-AMS-MML_SVG\"></script><script type=\"text/javascript\">if (window.MathJax && window.MathJax.Hub && window.MathJax.Hub.Config) {window.MathJax.Hub.Config({SVG: {font: \"STIX-Web\"}});}</script>                <script type=\"text/javascript\">window.PlotlyConfig = {MathJaxConfig: 'local'};</script>\n",
              "        <script charset=\"utf-8\" src=\"https://cdn.plot.ly/plotly-2.24.1.min.js\"></script>                <div id=\"c8a5eb18-a949-46be-8fad-c411f0858998\" class=\"plotly-graph-div\" style=\"height:525px; width:100%;\"></div>            <script type=\"text/javascript\">                                    window.PLOTLYENV=window.PLOTLYENV || {};                                    if (document.getElementById(\"c8a5eb18-a949-46be-8fad-c411f0858998\")) {                    Plotly.newPlot(                        \"c8a5eb18-a949-46be-8fad-c411f0858998\",                        [{\"hovertemplate\":\"Component 1=%{x}\\u003cbr\\u003eComponent 2=%{y}\\u003cbr\\u003etext=%{text}\\u003cextra\\u003e\\u003c\\u002fextra\\u003e\",\"legendgroup\":\"\",\"marker\":{\"color\":\"#636efa\",\"symbol\":\"circle\"},\"mode\":\"markers+text\",\"name\":\"\",\"orientation\":\"v\",\"showlegend\":false,\"text\":[\"sunset\",\"mountain\",\"river\",\"city\",\"forest\",\"ocean\",\"sky\",\"garden\",\"flower\",\"island\",\"book\",\"novel\",\"poem\",\"story\",\"author\",\"library\",\"chapter\",\"page\",\"poetry\",\"literature\",\"painting\",\"sculpture\",\"museum\",\"canvas\",\"brush\",\"gallery\",\"artist\",\"portrait\",\"exhibit\",\"frame\",\"guitar\",\"piano\",\"violin\",\"concert\",\"symphony\",\"melody\",\"rhythm\",\"lyric\",\"harmony\",\"band\",\"friend\",\"family\",\"sibling\",\"parent\",\"child\",\"cousin\",\"uncle\",\"aunt\",\"grandparent\",\"neighbor\",\"hiking\",\"running\",\"swimming\",\"cycling\",\"tennis\",\"basketball\",\"soccer\",\"volleyball\",\"yoga\",\"dance\",\"computer\",\"phone\",\"tablet\",\"camera\",\"keyboard\",\"mouse\",\"screen\",\"monitor\",\"printer\",\"speaker\",\"bread\",\"cheese\",\"apple\",\"banana\",\"orange\",\"strawberry\",\"grape\",\"carrot\",\"potato\",\"lettuce\",\"school\",\"university\",\"teacher\",\"student\",\"classroom\",\"homework\",\"exam\",\"textbook\",\"lecture\",\"library\",\"car\",\"bus\",\"train\",\"bicycle\",\"airplane\",\"boat\",\"subway\",\"taxi\",\"scooter\",\"motorcycle\",\"joy\",\"sadness\",\"anger\",\"love\",\"fear\",\"hope\",\"relief\",\"surprise\",\"excitement\",\"calm\"],\"x\":[-3.3803210258483887,-8.263725280761719,-3.609312057495117,12.127582550048828,-1.4227625131607056,-10.541760444641113,-3.3482301235198975,-2.8449602127075195,-3.160202741622925,-11.384759902954102,3.4946537017822266,3.5147805213928223,1.9161757230758667,-0.529474675655365,0.7108101844787598,5.841886520385742,2.5755293369293213,4.8001837730407715,2.073507785797119,3.8831372261047363,11.937678337097168,9.5880126953125,8.32639217376709,11.91348934173584,12.455750465393066,8.902780532836914,10.316264152526855,9.368131637573242,8.524425506591797,9.615575790405273,5.679180145263672,6.75439977645874,6.744357109069824,5.867830753326416,7.378824234008789,1.612344741821289,2.930722951889038,1.37939453125,-0.7150527238845825,5.313480377197266,-6.898899555206299,-10.473881721496582,-10.165700912475586,-11.749423027038574,-11.990535736083984,-9.146809577941895,-9.034932136535645,-8.95421028137207,-10.726936340332031,-7.188410758972168,-7.88497257232666,-6.7660136222839355,-9.404792785644531,10.999737739562988,-9.025301933288574,-8.591789245605469,-7.80443811416626,-8.496984481811523,-9.45398998260498,3.0399844646453857,6.323072910308838,4.015263080596924,5.611163139343262,8.06882095336914,6.7467546463012695,7.402712821960449,6.566757678985596,7.196100234985352,5.35828161239624,0.649531900882721,-3.369296073913574,-3.329641342163086,4.28273344039917,-5.958855152130127,-6.4341254234313965,-6.394961357116699,-3.568834066390991,-5.16934871673584,-5.680729866027832,-4.241182804107666,-15.09355354309082,-13.399633407592773,-15.245959281921387,-13.113239288330078,-15.155137062072754,-15.548462867736816,2.874986410140991,3.1930041313171387,0.8640395998954773,5.841886520385742,13.293000221252441,13.478963851928711,13.292595863342285,10.84049129486084,-1.7382166385650635,-3.2184460163116455,0.4132416248321533,13.246989250183105,-1.273136854171753,-1.1136854887008667,-1.5122532844543457,-3.2040059566497803,-4.017271041870117,-0.09618857502937317,-4.178765296936035,-1.4498573541641235,-1.9965639114379883,-5.2175397872924805,-4.91052770614624,-1.6407222747802734],\"xaxis\":\"x\",\"y\":[-5.199593544006348,-6.081213474273682,-8.790196418762207,6.043907642364502,13.302892684936523,-7.479842185974121,-5.307851791381836,12.57180118560791,12.460796356201172,-7.373266696929932,-0.45948201417922974,1.4736218452453613,3.879732370376587,-0.4943901598453522,-1.1478513479232788,0.3156360983848572,-0.09628947824239731,-1.4102734327316284,3.855501651763916,1.7262872457504272,0.8978685140609741,1.5627837181091309,3.632138967514038,0.17329084873199463,1.279862880706787,2.4985029697418213,1.1001511812210083,0.18498796224594116,3.264188766479492,-2.82609224319458,-11.794119834899902,-9.670595169067383,-11.524486541748047,-13.448162078857422,-13.119264602661133,-8.50703239440918,7.023486614227295,-7.683844566345215,2.705179214477539,-12.649971961975098,4.668375015258789,2.4141597747802734,3.6725525856018066,2.0662739276885986,4.117335796356201,3.3164267539978027,2.214993715286255,2.171241283416748,1.2783230543136597,4.564126968383789,-6.005633354187012,-6.0614519119262695,-9.932647705078125,-5.149590969085693,-10.952533721923828,-12.708483695983887,-11.631768226623535,-11.616938591003418,-3.495046377182007,7.138920307159424,-7.3945465087890625,-6.662198066711426,-6.139464855194092,-3.3895504474639893,-8.668783187866211,-7.784531116485596,-5.625423431396484,-5.85898494720459,-7.742094993591309,-2.351576328277588,7.755803108215332,8.339211463928223,-5.13865327835083,9.97369384765625,12.350643157958984,11.39104175567627,9.320058822631836,10.852885246276855,10.166069030761719,11.35634994506836,4.58836030960083,5.618607044219971,2.860499858856201,4.698625087738037,3.2174201011657715,4.908439636230469,-2.2710933685302734,-0.8389893770217896,-2.717252731323242,0.3156360983848572,4.7256059646606445,6.476686954498291,7.559793472290039,-5.044266223907471,-8.807090759277344,-8.824968338012695,-4.640809535980225,5.623515605926514,-12.585721969604492,-12.342226028442383,4.04031229019165,1.309536099433899,2.4978301525115967,5.037196636199951,3.6305782794952393,5.212937831878662,3.5685982704162598,-0.17742203176021576,0.33507832884788513,2.764702081680298],\"yaxis\":\"y\",\"type\":\"scatter\"}],                        {\"template\":{\"data\":{\"histogram2dcontour\":[{\"type\":\"histogram2dcontour\",\"colorbar\":{\"outlinewidth\":0,\"ticks\":\"\"},\"colorscale\":[[0.0,\"#0d0887\"],[0.1111111111111111,\"#46039f\"],[0.2222222222222222,\"#7201a8\"],[0.3333333333333333,\"#9c179e\"],[0.4444444444444444,\"#bd3786\"],[0.5555555555555556,\"#d8576b\"],[0.6666666666666666,\"#ed7953\"],[0.7777777777777778,\"#fb9f3a\"],[0.8888888888888888,\"#fdca26\"],[1.0,\"#f0f921\"]]}],\"choropleth\":[{\"type\":\"choropleth\",\"colorbar\":{\"outlinewidth\":0,\"ticks\":\"\"}}],\"histogram2d\":[{\"type\":\"histogram2d\",\"colorbar\":{\"outlinewidth\":0,\"ticks\":\"\"},\"colorscale\":[[0.0,\"#0d0887\"],[0.1111111111111111,\"#46039f\"],[0.2222222222222222,\"#7201a8\"],[0.3333333333333333,\"#9c179e\"],[0.4444444444444444,\"#bd3786\"],[0.5555555555555556,\"#d8576b\"],[0.6666666666666666,\"#ed7953\"],[0.7777777777777778,\"#fb9f3a\"],[0.8888888888888888,\"#fdca26\"],[1.0,\"#f0f921\"]]}],\"heatmap\":[{\"type\":\"heatmap\",\"colorbar\":{\"outlinewidth\":0,\"ticks\":\"\"},\"colorscale\":[[0.0,\"#0d0887\"],[0.1111111111111111,\"#46039f\"],[0.2222222222222222,\"#7201a8\"],[0.3333333333333333,\"#9c179e\"],[0.4444444444444444,\"#bd3786\"],[0.5555555555555556,\"#d8576b\"],[0.6666666666666666,\"#ed7953\"],[0.7777777777777778,\"#fb9f3a\"],[0.8888888888888888,\"#fdca26\"],[1.0,\"#f0f921\"]]}],\"heatmapgl\":[{\"type\":\"heatmapgl\",\"colorbar\":{\"outlinewidth\":0,\"ticks\":\"\"},\"colorscale\":[[0.0,\"#0d0887\"],[0.1111111111111111,\"#46039f\"],[0.2222222222222222,\"#7201a8\"],[0.3333333333333333,\"#9c179e\"],[0.4444444444444444,\"#bd3786\"],[0.5555555555555556,\"#d8576b\"],[0.6666666666666666,\"#ed7953\"],[0.7777777777777778,\"#fb9f3a\"],[0.8888888888888888,\"#fdca26\"],[1.0,\"#f0f921\"]]}],\"contourcarpet\":[{\"type\":\"contourcarpet\",\"colorbar\":{\"outlinewidth\":0,\"ticks\":\"\"}}],\"contour\":[{\"type\":\"contour\",\"colorbar\":{\"outlinewidth\":0,\"ticks\":\"\"},\"colorscale\":[[0.0,\"#0d0887\"],[0.1111111111111111,\"#46039f\"],[0.2222222222222222,\"#7201a8\"],[0.3333333333333333,\"#9c179e\"],[0.4444444444444444,\"#bd3786\"],[0.5555555555555556,\"#d8576b\"],[0.6666666666666666,\"#ed7953\"],[0.7777777777777778,\"#fb9f3a\"],[0.8888888888888888,\"#fdca26\"],[1.0,\"#f0f921\"]]}],\"surface\":[{\"type\":\"surface\",\"colorbar\":{\"outlinewidth\":0,\"ticks\":\"\"},\"colorscale\":[[0.0,\"#0d0887\"],[0.1111111111111111,\"#46039f\"],[0.2222222222222222,\"#7201a8\"],[0.3333333333333333,\"#9c179e\"],[0.4444444444444444,\"#bd3786\"],[0.5555555555555556,\"#d8576b\"],[0.6666666666666666,\"#ed7953\"],[0.7777777777777778,\"#fb9f3a\"],[0.8888888888888888,\"#fdca26\"],[1.0,\"#f0f921\"]]}],\"mesh3d\":[{\"type\":\"mesh3d\",\"colorbar\":{\"outlinewidth\":0,\"ticks\":\"\"}}],\"scatter\":[{\"fillpattern\":{\"fillmode\":\"overlay\",\"size\":10,\"solidity\":0.2},\"type\":\"scatter\"}],\"parcoords\":[{\"type\":\"parcoords\",\"line\":{\"colorbar\":{\"outlinewidth\":0,\"ticks\":\"\"}}}],\"scatterpolargl\":[{\"type\":\"scatterpolargl\",\"marker\":{\"colorbar\":{\"outlinewidth\":0,\"ticks\":\"\"}}}],\"bar\":[{\"error_x\":{\"color\":\"#2a3f5f\"},\"error_y\":{\"color\":\"#2a3f5f\"},\"marker\":{\"line\":{\"color\":\"#E5ECF6\",\"width\":0.5},\"pattern\":{\"fillmode\":\"overlay\",\"size\":10,\"solidity\":0.2}},\"type\":\"bar\"}],\"scattergeo\":[{\"type\":\"scattergeo\",\"marker\":{\"colorbar\":{\"outlinewidth\":0,\"ticks\":\"\"}}}],\"scatterpolar\":[{\"type\":\"scatterpolar\",\"marker\":{\"colorbar\":{\"outlinewidth\":0,\"ticks\":\"\"}}}],\"histogram\":[{\"marker\":{\"pattern\":{\"fillmode\":\"overlay\",\"size\":10,\"solidity\":0.2}},\"type\":\"histogram\"}],\"scattergl\":[{\"type\":\"scattergl\",\"marker\":{\"colorbar\":{\"outlinewidth\":0,\"ticks\":\"\"}}}],\"scatter3d\":[{\"type\":\"scatter3d\",\"line\":{\"colorbar\":{\"outlinewidth\":0,\"ticks\":\"\"}},\"marker\":{\"colorbar\":{\"outlinewidth\":0,\"ticks\":\"\"}}}],\"scattermapbox\":[{\"type\":\"scattermapbox\",\"marker\":{\"colorbar\":{\"outlinewidth\":0,\"ticks\":\"\"}}}],\"scatterternary\":[{\"type\":\"scatterternary\",\"marker\":{\"colorbar\":{\"outlinewidth\":0,\"ticks\":\"\"}}}],\"scattercarpet\":[{\"type\":\"scattercarpet\",\"marker\":{\"colorbar\":{\"outlinewidth\":0,\"ticks\":\"\"}}}],\"carpet\":[{\"aaxis\":{\"endlinecolor\":\"#2a3f5f\",\"gridcolor\":\"white\",\"linecolor\":\"white\",\"minorgridcolor\":\"white\",\"startlinecolor\":\"#2a3f5f\"},\"baxis\":{\"endlinecolor\":\"#2a3f5f\",\"gridcolor\":\"white\",\"linecolor\":\"white\",\"minorgridcolor\":\"white\",\"startlinecolor\":\"#2a3f5f\"},\"type\":\"carpet\"}],\"table\":[{\"cells\":{\"fill\":{\"color\":\"#EBF0F8\"},\"line\":{\"color\":\"white\"}},\"header\":{\"fill\":{\"color\":\"#C8D4E3\"},\"line\":{\"color\":\"white\"}},\"type\":\"table\"}],\"barpolar\":[{\"marker\":{\"line\":{\"color\":\"#E5ECF6\",\"width\":0.5},\"pattern\":{\"fillmode\":\"overlay\",\"size\":10,\"solidity\":0.2}},\"type\":\"barpolar\"}],\"pie\":[{\"automargin\":true,\"type\":\"pie\"}]},\"layout\":{\"autotypenumbers\":\"strict\",\"colorway\":[\"#636efa\",\"#EF553B\",\"#00cc96\",\"#ab63fa\",\"#FFA15A\",\"#19d3f3\",\"#FF6692\",\"#B6E880\",\"#FF97FF\",\"#FECB52\"],\"font\":{\"color\":\"#2a3f5f\"},\"hovermode\":\"closest\",\"hoverlabel\":{\"align\":\"left\"},\"paper_bgcolor\":\"white\",\"plot_bgcolor\":\"#E5ECF6\",\"polar\":{\"bgcolor\":\"#E5ECF6\",\"angularaxis\":{\"gridcolor\":\"white\",\"linecolor\":\"white\",\"ticks\":\"\"},\"radialaxis\":{\"gridcolor\":\"white\",\"linecolor\":\"white\",\"ticks\":\"\"}},\"ternary\":{\"bgcolor\":\"#E5ECF6\",\"aaxis\":{\"gridcolor\":\"white\",\"linecolor\":\"white\",\"ticks\":\"\"},\"baxis\":{\"gridcolor\":\"white\",\"linecolor\":\"white\",\"ticks\":\"\"},\"caxis\":{\"gridcolor\":\"white\",\"linecolor\":\"white\",\"ticks\":\"\"}},\"coloraxis\":{\"colorbar\":{\"outlinewidth\":0,\"ticks\":\"\"}},\"colorscale\":{\"sequential\":[[0.0,\"#0d0887\"],[0.1111111111111111,\"#46039f\"],[0.2222222222222222,\"#7201a8\"],[0.3333333333333333,\"#9c179e\"],[0.4444444444444444,\"#bd3786\"],[0.5555555555555556,\"#d8576b\"],[0.6666666666666666,\"#ed7953\"],[0.7777777777777778,\"#fb9f3a\"],[0.8888888888888888,\"#fdca26\"],[1.0,\"#f0f921\"]],\"sequentialminus\":[[0.0,\"#0d0887\"],[0.1111111111111111,\"#46039f\"],[0.2222222222222222,\"#7201a8\"],[0.3333333333333333,\"#9c179e\"],[0.4444444444444444,\"#bd3786\"],[0.5555555555555556,\"#d8576b\"],[0.6666666666666666,\"#ed7953\"],[0.7777777777777778,\"#fb9f3a\"],[0.8888888888888888,\"#fdca26\"],[1.0,\"#f0f921\"]],\"diverging\":[[0,\"#8e0152\"],[0.1,\"#c51b7d\"],[0.2,\"#de77ae\"],[0.3,\"#f1b6da\"],[0.4,\"#fde0ef\"],[0.5,\"#f7f7f7\"],[0.6,\"#e6f5d0\"],[0.7,\"#b8e186\"],[0.8,\"#7fbc41\"],[0.9,\"#4d9221\"],[1,\"#276419\"]]},\"xaxis\":{\"gridcolor\":\"white\",\"linecolor\":\"white\",\"ticks\":\"\",\"title\":{\"standoff\":15},\"zerolinecolor\":\"white\",\"automargin\":true,\"zerolinewidth\":2},\"yaxis\":{\"gridcolor\":\"white\",\"linecolor\":\"white\",\"ticks\":\"\",\"title\":{\"standoff\":15},\"zerolinecolor\":\"white\",\"automargin\":true,\"zerolinewidth\":2},\"scene\":{\"xaxis\":{\"backgroundcolor\":\"#E5ECF6\",\"gridcolor\":\"white\",\"linecolor\":\"white\",\"showbackground\":true,\"ticks\":\"\",\"zerolinecolor\":\"white\",\"gridwidth\":2},\"yaxis\":{\"backgroundcolor\":\"#E5ECF6\",\"gridcolor\":\"white\",\"linecolor\":\"white\",\"showbackground\":true,\"ticks\":\"\",\"zerolinecolor\":\"white\",\"gridwidth\":2},\"zaxis\":{\"backgroundcolor\":\"#E5ECF6\",\"gridcolor\":\"white\",\"linecolor\":\"white\",\"showbackground\":true,\"ticks\":\"\",\"zerolinecolor\":\"white\",\"gridwidth\":2}},\"shapedefaults\":{\"line\":{\"color\":\"#2a3f5f\"}},\"annotationdefaults\":{\"arrowcolor\":\"#2a3f5f\",\"arrowhead\":0,\"arrowwidth\":1},\"geo\":{\"bgcolor\":\"white\",\"landcolor\":\"#E5ECF6\",\"subunitcolor\":\"white\",\"showland\":true,\"showlakes\":true,\"lakecolor\":\"white\"},\"title\":{\"x\":0.05},\"mapbox\":{\"style\":\"light\"}}},\"xaxis\":{\"anchor\":\"y\",\"domain\":[0.0,1.0],\"title\":{\"text\":\"Component 1\"}},\"yaxis\":{\"anchor\":\"x\",\"domain\":[0.0,1.0],\"title\":{\"text\":\"Component 2\"}},\"legend\":{\"tracegroupgap\":0},\"title\":{\"text\":\"t-SNE of GIST Embeddings\"}},                        {\"responsive\": true}                    ).then(function(){\n",
              "                            \n",
              "var gd = document.getElementById('c8a5eb18-a949-46be-8fad-c411f0858998');\n",
              "var x = new MutationObserver(function (mutations, observer) {{\n",
              "        var display = window.getComputedStyle(gd).display;\n",
              "        if (!display || display === 'none') {{\n",
              "            console.log([gd, 'removed!']);\n",
              "            Plotly.purge(gd);\n",
              "            observer.disconnect();\n",
              "        }}\n",
              "}});\n",
              "\n",
              "// Listen for the removal of the full notebook cells\n",
              "var notebookContainer = gd.closest('#notebook-container');\n",
              "if (notebookContainer) {{\n",
              "    x.observe(notebookContainer, {childList: true});\n",
              "}}\n",
              "\n",
              "// Listen for the clearing of the current output cell\n",
              "var outputEl = gd.closest('.output');\n",
              "if (outputEl) {{\n",
              "    x.observe(outputEl, {childList: true});\n",
              "}}\n",
              "\n",
              "                        })                };                            </script>        </div>\n",
              "</body>\n",
              "</html>"
            ]
          },
          "metadata": {}
        }
      ]
    },
    {
      "cell_type": "markdown",
      "source": [
        "### t-SNE Visualization Insights\n",
        "\n",
        "The t-SNE plot reveals detailed local clusters within the GIST embeddings, highlighting semantically similar words grouped by theme.\n",
        "\n",
        "1. **Clusters of Related Concepts**:\n",
        "   - **Education terms** like \"school,\" \"student,\" and \"homework\" form a distinct cluster.\n",
        "   - **Family terms** such as \"parent,\" \"child,\" and \"sibling\" are grouped closely, reflecting a cohesive family theme.\n",
        "\n",
        "2. **Thematic Areas**:\n",
        "   - **Emotions**: Words like \"fear,\" \"joy,\" and \"relief\" are clustered, showing a related group.\n",
        "   - **Art and Culture**: Terms like \"museum,\" \"artist,\" and \"gallery\" appear together, highlighting cultural concepts.\n",
        "   - **Nature and Activities**: Nature-related words like \"ocean\" and \"river\" are near recreational terms like \"hiking\" and \"swimming.\"\n",
        "\n",
        "3. **Local Structure**:\n",
        "   - t-SNE’s focus on local structure reveals detailed clusters, making it ideal for observing specific relationships like family, education, and emotions.\n",
        "\n",
        "Overall, t-SNE effectively showcases detailed semantic clusters, capturing nuanced relationships within the GIST embedding space.\n"
      ],
      "metadata": {
        "id": "849wRhkdFup7"
      }
    },
    {
      "cell_type": "code",
      "source": [
        "import umap\n",
        "umap_model = umap.UMAP(n_components=2, n_neighbors=15, min_dist=0.1, random_state=42)\n",
        "embeddings_umap = umap_model.fit_transform(embeddings)"
      ],
      "metadata": {
        "colab": {
          "base_uri": "https://localhost:8080/"
        },
        "id": "DddvbpD7ayGe",
        "outputId": "2f2b1e13-94e9-4cfe-e0d5-80536ed9677a"
      },
      "execution_count": null,
      "outputs": [
        {
          "output_type": "stream",
          "name": "stderr",
          "text": [
            "/usr/local/lib/python3.10/dist-packages/umap/umap_.py:1945: UserWarning:\n",
            "\n",
            "n_jobs value 1 overridden to 1 by setting random_state. Use no seed for parallelism.\n",
            "\n"
          ]
        }
      ]
    },
    {
      "cell_type": "code",
      "source": [
        "fig_umap = px.scatter(embeddings_umap, x=0, y=1, text=texts,\n",
        "                      title=\"UMAP of GIST Embeddings\",\n",
        "                      labels={'0': 'Component 1', '1': 'Component 2'})\n",
        "fig_umap.show()"
      ],
      "metadata": {
        "colab": {
          "base_uri": "https://localhost:8080/",
          "height": 542
        },
        "id": "KVDz20Ana04x",
        "outputId": "560395ec-a443-4ace-f618-0671763dcc97"
      },
      "execution_count": null,
      "outputs": [
        {
          "output_type": "display_data",
          "data": {
            "text/html": [
              "<html>\n",
              "<head><meta charset=\"utf-8\" /></head>\n",
              "<body>\n",
              "    <div>            <script src=\"https://cdnjs.cloudflare.com/ajax/libs/mathjax/2.7.5/MathJax.js?config=TeX-AMS-MML_SVG\"></script><script type=\"text/javascript\">if (window.MathJax && window.MathJax.Hub && window.MathJax.Hub.Config) {window.MathJax.Hub.Config({SVG: {font: \"STIX-Web\"}});}</script>                <script type=\"text/javascript\">window.PlotlyConfig = {MathJaxConfig: 'local'};</script>\n",
              "        <script charset=\"utf-8\" src=\"https://cdn.plot.ly/plotly-2.24.1.min.js\"></script>                <div id=\"3103ea89-c663-4f8a-8b17-3172b71e2dc2\" class=\"plotly-graph-div\" style=\"height:525px; width:100%;\"></div>            <script type=\"text/javascript\">                                    window.PLOTLYENV=window.PLOTLYENV || {};                                    if (document.getElementById(\"3103ea89-c663-4f8a-8b17-3172b71e2dc2\")) {                    Plotly.newPlot(                        \"3103ea89-c663-4f8a-8b17-3172b71e2dc2\",                        [{\"hovertemplate\":\"Component 1=%{x}\\u003cbr\\u003eComponent 2=%{y}\\u003cbr\\u003etext=%{text}\\u003cextra\\u003e\\u003c\\u002fextra\\u003e\",\"legendgroup\":\"\",\"marker\":{\"color\":\"#636efa\",\"symbol\":\"circle\"},\"mode\":\"markers+text\",\"name\":\"\",\"orientation\":\"v\",\"showlegend\":false,\"text\":[\"sunset\",\"mountain\",\"river\",\"city\",\"forest\",\"ocean\",\"sky\",\"garden\",\"flower\",\"island\",\"book\",\"novel\",\"poem\",\"story\",\"author\",\"library\",\"chapter\",\"page\",\"poetry\",\"literature\",\"painting\",\"sculpture\",\"museum\",\"canvas\",\"brush\",\"gallery\",\"artist\",\"portrait\",\"exhibit\",\"frame\",\"guitar\",\"piano\",\"violin\",\"concert\",\"symphony\",\"melody\",\"rhythm\",\"lyric\",\"harmony\",\"band\",\"friend\",\"family\",\"sibling\",\"parent\",\"child\",\"cousin\",\"uncle\",\"aunt\",\"grandparent\",\"neighbor\",\"hiking\",\"running\",\"swimming\",\"cycling\",\"tennis\",\"basketball\",\"soccer\",\"volleyball\",\"yoga\",\"dance\",\"computer\",\"phone\",\"tablet\",\"camera\",\"keyboard\",\"mouse\",\"screen\",\"monitor\",\"printer\",\"speaker\",\"bread\",\"cheese\",\"apple\",\"banana\",\"orange\",\"strawberry\",\"grape\",\"carrot\",\"potato\",\"lettuce\",\"school\",\"university\",\"teacher\",\"student\",\"classroom\",\"homework\",\"exam\",\"textbook\",\"lecture\",\"library\",\"car\",\"bus\",\"train\",\"bicycle\",\"airplane\",\"boat\",\"subway\",\"taxi\",\"scooter\",\"motorcycle\",\"joy\",\"sadness\",\"anger\",\"love\",\"fear\",\"hope\",\"relief\",\"surprise\",\"excitement\",\"calm\"],\"x\":[6.081781387329102,6.10330867767334,5.586562633514404,4.441849708557129,6.200984477996826,5.815912246704102,5.785549640655518,6.460443019866943,6.581941604614258,5.907783508300781,6.264728546142578,6.799026966094971,7.501543045043945,6.956921577453613,6.3723530769348145,5.914794445037842,6.145391464233398,5.667666912078857,7.154454708099365,6.464148998260498,5.520597457885742,5.420046806335449,5.529578685760498,5.4077630043029785,5.397343635559082,5.354111194610596,5.6637864112854,5.200872421264648,5.491846561431885,4.916655540466309,6.869885444641113,6.605644702911377,6.816845417022705,6.408699989318848,6.728080749511719,7.33856725692749,7.469127655029297,7.288924217224121,7.826455116271973,7.075547695159912,7.431832313537598,6.950881004333496,7.110175609588623,6.448031425476074,6.826773166656494,7.197545051574707,6.910470485687256,6.8766608238220215,6.751612663269043,7.359715938568115,6.513668537139893,6.735558986663818,7.160655498504639,5.081820964813232,7.426846981048584,7.536427974700928,7.331517696380615,7.4712910652160645,7.193539142608643,7.30996036529541,3.907238721847534,4.070346832275391,4.258893013000488,4.655592441558838,3.867237091064453,4.198723793029785,4.351442813873291,3.976423978805542,3.7583093643188477,6.091151714324951,5.628566265106201,5.6981940269470215,5.7706732749938965,5.9009013175964355,6.355039119720459,6.216264724731445,6.005127906799316,6.360424995422363,6.079374313354492,6.242232322692871,5.204604148864746,5.093896865844727,5.181782245635986,5.242928981781006,5.1495232582092285,5.4933953285217285,5.478833198547363,5.869866371154785,5.9210615158081055,6.054831504821777,4.287423610687256,4.563968181610107,4.839155673980713,4.853507995605469,4.293002605438232,5.241710186004639,5.177374362945557,4.336526870727539,4.559688568115234,4.5940632820129395,8.091532707214355,8.013803482055664,8.34237003326416,7.795326232910156,8.345622062683105,7.9876508712768555,8.236613273620605,8.162618637084961,8.48500919342041,8.32748794555664],\"xaxis\":\"x\",\"y\":[10.411008834838867,9.661579132080078,9.682073593139648,9.618800163269043,9.341615676879883,9.86966609954834,10.109604835510254,8.942233085632324,8.787862777709961,9.944610595703125,12.879363059997559,12.868138313293457,12.406049728393555,12.76309871673584,12.539749145507812,12.916269302368164,13.107610702514648,12.808765411376953,12.46040153503418,12.975059509277344,11.239839553833008,11.770943641662598,12.224447250366211,11.172414779663086,11.067885398864746,11.908035278320312,11.628174781799316,11.502089500427246,12.15906810760498,10.904186248779297,11.26266860961914,11.398942947387695,11.32442855834961,11.881354331970215,11.747008323669434,11.848673820495605,11.199983596801758,12.1085786819458,11.608246803283691,11.487593650817871,13.478387832641602,14.274137496948242,14.016590118408203,13.948352813720703,13.52627182006836,14.179362297058105,14.216714859008789,14.360501289367676,14.161111831665039,14.053112030029297,9.819818496704102,10.162993431091309,9.979039192199707,9.914011001586914,9.79671859741211,9.932062149047852,10.14755630493164,9.79723834991455,10.507987976074219,10.848730087280273,10.792284965515137,10.794952392578125,11.157217025756836,10.968154907226562,11.051117897033691,10.986515998840332,11.033143997192383,10.97930908203125,10.817651748657227,12.387697219848633,8.384971618652344,8.31823444366455,8.950592041015625,8.564973831176758,8.607305526733398,8.400679588317871,8.740605354309082,8.343091011047363,8.476320266723633,8.364269256591797,13.40324592590332,12.955547332763672,13.648870468139648,13.259727478027344,13.391737937927246,13.634636878967285,13.268633842468262,13.227975845336914,12.547507286071777,13.088306427001953,9.887035369873047,9.500822067260742,9.378254890441895,10.115830421447754,10.022333145141602,9.678412437438965,8.76882266998291,9.581128120422363,9.848831176757812,10.10254955291748,12.090438842773438,12.609185218811035,12.504413604736328,12.253667831420898,12.341026306152344,12.18327808380127,11.90799617767334,12.83013916015625,12.341781616210938,11.761359214782715],\"yaxis\":\"y\",\"type\":\"scatter\"}],                        {\"template\":{\"data\":{\"histogram2dcontour\":[{\"type\":\"histogram2dcontour\",\"colorbar\":{\"outlinewidth\":0,\"ticks\":\"\"},\"colorscale\":[[0.0,\"#0d0887\"],[0.1111111111111111,\"#46039f\"],[0.2222222222222222,\"#7201a8\"],[0.3333333333333333,\"#9c179e\"],[0.4444444444444444,\"#bd3786\"],[0.5555555555555556,\"#d8576b\"],[0.6666666666666666,\"#ed7953\"],[0.7777777777777778,\"#fb9f3a\"],[0.8888888888888888,\"#fdca26\"],[1.0,\"#f0f921\"]]}],\"choropleth\":[{\"type\":\"choropleth\",\"colorbar\":{\"outlinewidth\":0,\"ticks\":\"\"}}],\"histogram2d\":[{\"type\":\"histogram2d\",\"colorbar\":{\"outlinewidth\":0,\"ticks\":\"\"},\"colorscale\":[[0.0,\"#0d0887\"],[0.1111111111111111,\"#46039f\"],[0.2222222222222222,\"#7201a8\"],[0.3333333333333333,\"#9c179e\"],[0.4444444444444444,\"#bd3786\"],[0.5555555555555556,\"#d8576b\"],[0.6666666666666666,\"#ed7953\"],[0.7777777777777778,\"#fb9f3a\"],[0.8888888888888888,\"#fdca26\"],[1.0,\"#f0f921\"]]}],\"heatmap\":[{\"type\":\"heatmap\",\"colorbar\":{\"outlinewidth\":0,\"ticks\":\"\"},\"colorscale\":[[0.0,\"#0d0887\"],[0.1111111111111111,\"#46039f\"],[0.2222222222222222,\"#7201a8\"],[0.3333333333333333,\"#9c179e\"],[0.4444444444444444,\"#bd3786\"],[0.5555555555555556,\"#d8576b\"],[0.6666666666666666,\"#ed7953\"],[0.7777777777777778,\"#fb9f3a\"],[0.8888888888888888,\"#fdca26\"],[1.0,\"#f0f921\"]]}],\"heatmapgl\":[{\"type\":\"heatmapgl\",\"colorbar\":{\"outlinewidth\":0,\"ticks\":\"\"},\"colorscale\":[[0.0,\"#0d0887\"],[0.1111111111111111,\"#46039f\"],[0.2222222222222222,\"#7201a8\"],[0.3333333333333333,\"#9c179e\"],[0.4444444444444444,\"#bd3786\"],[0.5555555555555556,\"#d8576b\"],[0.6666666666666666,\"#ed7953\"],[0.7777777777777778,\"#fb9f3a\"],[0.8888888888888888,\"#fdca26\"],[1.0,\"#f0f921\"]]}],\"contourcarpet\":[{\"type\":\"contourcarpet\",\"colorbar\":{\"outlinewidth\":0,\"ticks\":\"\"}}],\"contour\":[{\"type\":\"contour\",\"colorbar\":{\"outlinewidth\":0,\"ticks\":\"\"},\"colorscale\":[[0.0,\"#0d0887\"],[0.1111111111111111,\"#46039f\"],[0.2222222222222222,\"#7201a8\"],[0.3333333333333333,\"#9c179e\"],[0.4444444444444444,\"#bd3786\"],[0.5555555555555556,\"#d8576b\"],[0.6666666666666666,\"#ed7953\"],[0.7777777777777778,\"#fb9f3a\"],[0.8888888888888888,\"#fdca26\"],[1.0,\"#f0f921\"]]}],\"surface\":[{\"type\":\"surface\",\"colorbar\":{\"outlinewidth\":0,\"ticks\":\"\"},\"colorscale\":[[0.0,\"#0d0887\"],[0.1111111111111111,\"#46039f\"],[0.2222222222222222,\"#7201a8\"],[0.3333333333333333,\"#9c179e\"],[0.4444444444444444,\"#bd3786\"],[0.5555555555555556,\"#d8576b\"],[0.6666666666666666,\"#ed7953\"],[0.7777777777777778,\"#fb9f3a\"],[0.8888888888888888,\"#fdca26\"],[1.0,\"#f0f921\"]]}],\"mesh3d\":[{\"type\":\"mesh3d\",\"colorbar\":{\"outlinewidth\":0,\"ticks\":\"\"}}],\"scatter\":[{\"fillpattern\":{\"fillmode\":\"overlay\",\"size\":10,\"solidity\":0.2},\"type\":\"scatter\"}],\"parcoords\":[{\"type\":\"parcoords\",\"line\":{\"colorbar\":{\"outlinewidth\":0,\"ticks\":\"\"}}}],\"scatterpolargl\":[{\"type\":\"scatterpolargl\",\"marker\":{\"colorbar\":{\"outlinewidth\":0,\"ticks\":\"\"}}}],\"bar\":[{\"error_x\":{\"color\":\"#2a3f5f\"},\"error_y\":{\"color\":\"#2a3f5f\"},\"marker\":{\"line\":{\"color\":\"#E5ECF6\",\"width\":0.5},\"pattern\":{\"fillmode\":\"overlay\",\"size\":10,\"solidity\":0.2}},\"type\":\"bar\"}],\"scattergeo\":[{\"type\":\"scattergeo\",\"marker\":{\"colorbar\":{\"outlinewidth\":0,\"ticks\":\"\"}}}],\"scatterpolar\":[{\"type\":\"scatterpolar\",\"marker\":{\"colorbar\":{\"outlinewidth\":0,\"ticks\":\"\"}}}],\"histogram\":[{\"marker\":{\"pattern\":{\"fillmode\":\"overlay\",\"size\":10,\"solidity\":0.2}},\"type\":\"histogram\"}],\"scattergl\":[{\"type\":\"scattergl\",\"marker\":{\"colorbar\":{\"outlinewidth\":0,\"ticks\":\"\"}}}],\"scatter3d\":[{\"type\":\"scatter3d\",\"line\":{\"colorbar\":{\"outlinewidth\":0,\"ticks\":\"\"}},\"marker\":{\"colorbar\":{\"outlinewidth\":0,\"ticks\":\"\"}}}],\"scattermapbox\":[{\"type\":\"scattermapbox\",\"marker\":{\"colorbar\":{\"outlinewidth\":0,\"ticks\":\"\"}}}],\"scatterternary\":[{\"type\":\"scatterternary\",\"marker\":{\"colorbar\":{\"outlinewidth\":0,\"ticks\":\"\"}}}],\"scattercarpet\":[{\"type\":\"scattercarpet\",\"marker\":{\"colorbar\":{\"outlinewidth\":0,\"ticks\":\"\"}}}],\"carpet\":[{\"aaxis\":{\"endlinecolor\":\"#2a3f5f\",\"gridcolor\":\"white\",\"linecolor\":\"white\",\"minorgridcolor\":\"white\",\"startlinecolor\":\"#2a3f5f\"},\"baxis\":{\"endlinecolor\":\"#2a3f5f\",\"gridcolor\":\"white\",\"linecolor\":\"white\",\"minorgridcolor\":\"white\",\"startlinecolor\":\"#2a3f5f\"},\"type\":\"carpet\"}],\"table\":[{\"cells\":{\"fill\":{\"color\":\"#EBF0F8\"},\"line\":{\"color\":\"white\"}},\"header\":{\"fill\":{\"color\":\"#C8D4E3\"},\"line\":{\"color\":\"white\"}},\"type\":\"table\"}],\"barpolar\":[{\"marker\":{\"line\":{\"color\":\"#E5ECF6\",\"width\":0.5},\"pattern\":{\"fillmode\":\"overlay\",\"size\":10,\"solidity\":0.2}},\"type\":\"barpolar\"}],\"pie\":[{\"automargin\":true,\"type\":\"pie\"}]},\"layout\":{\"autotypenumbers\":\"strict\",\"colorway\":[\"#636efa\",\"#EF553B\",\"#00cc96\",\"#ab63fa\",\"#FFA15A\",\"#19d3f3\",\"#FF6692\",\"#B6E880\",\"#FF97FF\",\"#FECB52\"],\"font\":{\"color\":\"#2a3f5f\"},\"hovermode\":\"closest\",\"hoverlabel\":{\"align\":\"left\"},\"paper_bgcolor\":\"white\",\"plot_bgcolor\":\"#E5ECF6\",\"polar\":{\"bgcolor\":\"#E5ECF6\",\"angularaxis\":{\"gridcolor\":\"white\",\"linecolor\":\"white\",\"ticks\":\"\"},\"radialaxis\":{\"gridcolor\":\"white\",\"linecolor\":\"white\",\"ticks\":\"\"}},\"ternary\":{\"bgcolor\":\"#E5ECF6\",\"aaxis\":{\"gridcolor\":\"white\",\"linecolor\":\"white\",\"ticks\":\"\"},\"baxis\":{\"gridcolor\":\"white\",\"linecolor\":\"white\",\"ticks\":\"\"},\"caxis\":{\"gridcolor\":\"white\",\"linecolor\":\"white\",\"ticks\":\"\"}},\"coloraxis\":{\"colorbar\":{\"outlinewidth\":0,\"ticks\":\"\"}},\"colorscale\":{\"sequential\":[[0.0,\"#0d0887\"],[0.1111111111111111,\"#46039f\"],[0.2222222222222222,\"#7201a8\"],[0.3333333333333333,\"#9c179e\"],[0.4444444444444444,\"#bd3786\"],[0.5555555555555556,\"#d8576b\"],[0.6666666666666666,\"#ed7953\"],[0.7777777777777778,\"#fb9f3a\"],[0.8888888888888888,\"#fdca26\"],[1.0,\"#f0f921\"]],\"sequentialminus\":[[0.0,\"#0d0887\"],[0.1111111111111111,\"#46039f\"],[0.2222222222222222,\"#7201a8\"],[0.3333333333333333,\"#9c179e\"],[0.4444444444444444,\"#bd3786\"],[0.5555555555555556,\"#d8576b\"],[0.6666666666666666,\"#ed7953\"],[0.7777777777777778,\"#fb9f3a\"],[0.8888888888888888,\"#fdca26\"],[1.0,\"#f0f921\"]],\"diverging\":[[0,\"#8e0152\"],[0.1,\"#c51b7d\"],[0.2,\"#de77ae\"],[0.3,\"#f1b6da\"],[0.4,\"#fde0ef\"],[0.5,\"#f7f7f7\"],[0.6,\"#e6f5d0\"],[0.7,\"#b8e186\"],[0.8,\"#7fbc41\"],[0.9,\"#4d9221\"],[1,\"#276419\"]]},\"xaxis\":{\"gridcolor\":\"white\",\"linecolor\":\"white\",\"ticks\":\"\",\"title\":{\"standoff\":15},\"zerolinecolor\":\"white\",\"automargin\":true,\"zerolinewidth\":2},\"yaxis\":{\"gridcolor\":\"white\",\"linecolor\":\"white\",\"ticks\":\"\",\"title\":{\"standoff\":15},\"zerolinecolor\":\"white\",\"automargin\":true,\"zerolinewidth\":2},\"scene\":{\"xaxis\":{\"backgroundcolor\":\"#E5ECF6\",\"gridcolor\":\"white\",\"linecolor\":\"white\",\"showbackground\":true,\"ticks\":\"\",\"zerolinecolor\":\"white\",\"gridwidth\":2},\"yaxis\":{\"backgroundcolor\":\"#E5ECF6\",\"gridcolor\":\"white\",\"linecolor\":\"white\",\"showbackground\":true,\"ticks\":\"\",\"zerolinecolor\":\"white\",\"gridwidth\":2},\"zaxis\":{\"backgroundcolor\":\"#E5ECF6\",\"gridcolor\":\"white\",\"linecolor\":\"white\",\"showbackground\":true,\"ticks\":\"\",\"zerolinecolor\":\"white\",\"gridwidth\":2}},\"shapedefaults\":{\"line\":{\"color\":\"#2a3f5f\"}},\"annotationdefaults\":{\"arrowcolor\":\"#2a3f5f\",\"arrowhead\":0,\"arrowwidth\":1},\"geo\":{\"bgcolor\":\"white\",\"landcolor\":\"#E5ECF6\",\"subunitcolor\":\"white\",\"showland\":true,\"showlakes\":true,\"lakecolor\":\"white\"},\"title\":{\"x\":0.05},\"mapbox\":{\"style\":\"light\"}}},\"xaxis\":{\"anchor\":\"y\",\"domain\":[0.0,1.0],\"title\":{\"text\":\"Component 1\"}},\"yaxis\":{\"anchor\":\"x\",\"domain\":[0.0,1.0],\"title\":{\"text\":\"Component 2\"}},\"legend\":{\"tracegroupgap\":0},\"title\":{\"text\":\"UMAP of GIST Embeddings\"}},                        {\"responsive\": true}                    ).then(function(){\n",
              "                            \n",
              "var gd = document.getElementById('3103ea89-c663-4f8a-8b17-3172b71e2dc2');\n",
              "var x = new MutationObserver(function (mutations, observer) {{\n",
              "        var display = window.getComputedStyle(gd).display;\n",
              "        if (!display || display === 'none') {{\n",
              "            console.log([gd, 'removed!']);\n",
              "            Plotly.purge(gd);\n",
              "            observer.disconnect();\n",
              "        }}\n",
              "}});\n",
              "\n",
              "// Listen for the removal of the full notebook cells\n",
              "var notebookContainer = gd.closest('#notebook-container');\n",
              "if (notebookContainer) {{\n",
              "    x.observe(notebookContainer, {childList: true});\n",
              "}}\n",
              "\n",
              "// Listen for the clearing of the current output cell\n",
              "var outputEl = gd.closest('.output');\n",
              "if (outputEl) {{\n",
              "    x.observe(outputEl, {childList: true});\n",
              "}}\n",
              "\n",
              "                        })                };                            </script>        </div>\n",
              "</body>\n",
              "</html>"
            ]
          },
          "metadata": {}
        }
      ]
    },
    {
      "cell_type": "markdown",
      "source": [
        "### UMAP Visualization Insights\n",
        "\n",
        "The UMAP visualization of GIST embeddings balances local and global structures, capturing broad themes and detailed clusters.\n",
        "\n",
        "1. **Clusters of Related Concepts**:\n",
        "   - **Technology terms** like \"computer,\" \"keyboard,\" and \"tablet\" form a clear cluster, showing semantic relationships within tech.\n",
        "   - **Family terms** like \"parent,\" \"child,\" and \"sibling\" are grouped, reflecting the model’s organization of family-related concepts.\n",
        "\n",
        "2. **Thematic Areas**:\n",
        "   - **Arts and Culture**: Terms like \"museum,\" \"artist,\" and \"sculpture\" cluster together, showing a cultural theme.\n",
        "   - **Emotions**: Words like \"joy,\" \"anger,\" and \"relief\" are grouped, representing emotional vocabulary.\n",
        "   - **Nature and Activities**: Nature words like \"mountain\" and \"river\" appear near activities like \"hiking\" and \"swimming,\" linking outdoor environments and recreation.\n",
        "\n",
        "3. **Local and Global Structure**:\n",
        "   - UMAP captures both detailed clusters and broader themes, providing a balanced view of semantic relationships compared to PCA and t-SNE.\n",
        "\n",
        "Overall, UMAP effectively displays detailed clusters and broad themes, highlighting both specific relationships and general structure within the embedding space."
      ],
      "metadata": {
        "id": "xIbDa9gnGJGG"
      }
    },
    {
      "cell_type": "markdown",
      "source": [
        "### Overall Comparison\n",
        "\n",
        "- **PCA** is best suited for observing large-scale patterns but lacks detailed clustering.\n",
        "- **t-SNE** provides in-depth insight into local structures, highlighting specific clusters but sacrificing some global context.\n",
        "- **UMAP** strikes a balance, preserving both detailed clusters and overall thematic groupings, making it effective for understanding both specific relationships and general structure.\n",
        "\n",
        "In summary, each method offers unique perspectives on the embedding space, with PCA showing broad themes, t-SNE revealing fine-grained clusters, and UMAP providing a balanced view that incorporates both local and global structures. These complementary insights collectively enhance our understanding of how the GIST model organizes words in its embedding space."
      ],
      "metadata": {
        "id": "_xBSex5wGwZO"
      }
    }
  ]
}